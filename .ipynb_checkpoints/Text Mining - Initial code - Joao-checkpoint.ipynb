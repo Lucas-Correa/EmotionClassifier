{
 "cells": [
  {
   "cell_type": "markdown",
   "id": "76e878d4",
   "metadata": {},
   "source": [
    "# Exploratory Dataset Analysis"
   ]
  },
  {
   "cell_type": "markdown",
   "id": "ce35c564",
   "metadata": {},
   "source": [
    "### Package Importing"
   ]
  },
  {
   "cell_type": "code",
   "execution_count": 77,
   "id": "c797fcd2",
   "metadata": {},
   "outputs": [],
   "source": [
    "import pandas as pd\n",
    "import numpy as np\n",
    "import pprint\n",
    "\n",
    "from tqdm import tqdm_notebook as tqdm\n",
    "\n",
    "# list manipulations/count\n",
    "from collections import Counter\n",
    "\n",
    "\n",
    "# Regular expressions\n",
    "import re\n",
    "\n",
    "# Natural Language toolkit\n",
    "\n",
    "import nltk\n",
    "from nltk.corpus import stopwords\n",
    "from nltk.tokenize import word_tokenize\n",
    "from nltk.corpus import wordnet\n",
    "from nltk.stem import SnowballStemmer\n",
    "from bs4 import BeautifulSoup\n",
    "import string\n",
    "\n",
    "# Language detection package\n",
    "\n",
    "import pycld2 as cld2\n",
    "\n",
    "\n",
    "# Countvectorizer from Sklearn\n",
    "\n",
    "from sklearn.feature_extraction.text import CountVectorizer\n",
    "\n",
    "# Model\n",
    "from sklearn.neighbors import KNeighborsClassifier\n",
    "\n",
    "\n",
    "# Evaluation report\n",
    "from sklearn.metrics import classification_report\n"
   ]
  },
  {
   "cell_type": "markdown",
   "id": "f3c4a29c",
   "metadata": {},
   "source": [
    "### Dataset importing"
   ]
  },
  {
   "cell_type": "code",
   "execution_count": 93,
   "id": "be65d15e",
   "metadata": {
    "scrolled": true
   },
   "outputs": [
    {
     "data": {
      "text/html": [
       "<div>\n",
       "<style scoped>\n",
       "    .dataframe tbody tr th:only-of-type {\n",
       "        vertical-align: middle;\n",
       "    }\n",
       "\n",
       "    .dataframe tbody tr th {\n",
       "        vertical-align: top;\n",
       "    }\n",
       "\n",
       "    .dataframe thead th {\n",
       "        text-align: right;\n",
       "    }\n",
       "</style>\n",
       "<table border=\"1\" class=\"dataframe\">\n",
       "  <thead>\n",
       "    <tr style=\"text-align: right;\">\n",
       "      <th></th>\n",
       "      <th>sentence</th>\n",
       "      <th>emotion</th>\n",
       "    </tr>\n",
       "  </thead>\n",
       "  <tbody>\n",
       "    <tr>\n",
       "      <th>0</th>\n",
       "      <td>I'm too old to be traded in .</td>\n",
       "      <td>6</td>\n",
       "    </tr>\n",
       "    <tr>\n",
       "      <th>1</th>\n",
       "      <td>Mother said you could always tell a lady by he...</td>\n",
       "      <td>8</td>\n",
       "    </tr>\n",
       "    <tr>\n",
       "      <th>2</th>\n",
       "      <td>I always said I'd leave off when the time came .</td>\n",
       "      <td>6</td>\n",
       "    </tr>\n",
       "    <tr>\n",
       "      <th>3</th>\n",
       "      <td>He'll be safe with me .</td>\n",
       "      <td>2</td>\n",
       "    </tr>\n",
       "    <tr>\n",
       "      <th>4</th>\n",
       "      <td>Lay off .</td>\n",
       "      <td>1</td>\n",
       "    </tr>\n",
       "  </tbody>\n",
       "</table>\n",
       "</div>"
      ],
      "text/plain": [
       "                                            sentence  emotion\n",
       "0                      I'm too old to be traded in .        6\n",
       "1  Mother said you could always tell a lady by he...        8\n",
       "2   I always said I'd leave off when the time came .        6\n",
       "3                            He'll be safe with me .        2\n",
       "4                                          Lay off .        1"
      ]
     },
     "execution_count": 93,
     "metadata": {},
     "output_type": "execute_result"
    }
   ],
   "source": [
    "data = pd.read_csv(\"training_set.txt\",sep='\\t' ) # header=0\n",
    "data.head()\n",
    "\n"
   ]
  },
  {
   "cell_type": "code",
   "execution_count": 94,
   "id": "d9d0c047",
   "metadata": {},
   "outputs": [
    {
     "data": {
      "text/plain": [
       "(14000, 2)"
      ]
     },
     "execution_count": 94,
     "metadata": {},
     "output_type": "execute_result"
    }
   ],
   "source": [
    "data.shape\n"
   ]
  },
  {
   "cell_type": "code",
   "execution_count": 95,
   "id": "62cb2b47",
   "metadata": {},
   "outputs": [
    {
     "data": {
      "text/html": [
       "<div>\n",
       "<style scoped>\n",
       "    .dataframe tbody tr th:only-of-type {\n",
       "        vertical-align: middle;\n",
       "    }\n",
       "\n",
       "    .dataframe tbody tr th {\n",
       "        vertical-align: top;\n",
       "    }\n",
       "\n",
       "    .dataframe thead th {\n",
       "        text-align: right;\n",
       "    }\n",
       "</style>\n",
       "<table border=\"1\" class=\"dataframe\">\n",
       "  <thead>\n",
       "    <tr style=\"text-align: right;\">\n",
       "      <th></th>\n",
       "      <th>sentence</th>\n",
       "      <th>emotion</th>\n",
       "    </tr>\n",
       "  </thead>\n",
       "  <tbody>\n",
       "    <tr>\n",
       "      <th>0</th>\n",
       "      <td>What happens to the gold in our safe ?</td>\n",
       "      <td>4</td>\n",
       "    </tr>\n",
       "    <tr>\n",
       "      <th>1</th>\n",
       "      <td>Natural to get cold feet .</td>\n",
       "      <td>8</td>\n",
       "    </tr>\n",
       "    <tr>\n",
       "      <th>2</th>\n",
       "      <td>Not very lucky , is he ?</td>\n",
       "      <td>7</td>\n",
       "    </tr>\n",
       "  </tbody>\n",
       "</table>\n",
       "</div>"
      ],
      "text/plain": [
       "                                 sentence  emotion\n",
       "0  What happens to the gold in our safe ?        4\n",
       "1              Natural to get cold feet .        8\n",
       "2                Not very lucky , is he ?        7"
      ]
     },
     "execution_count": 95,
     "metadata": {},
     "output_type": "execute_result"
    }
   ],
   "source": [
    "## validation set importing\n",
    "\n",
    "val = open(\"dev_set.txt\", \"r\")\n",
    "val = pd.read_csv(\"dev_set.txt\",sep='\\t')\n",
    "val.head(3)\n"
   ]
  },
  {
   "cell_type": "markdown",
   "id": "0dfe9c4f",
   "metadata": {},
   "source": [
    "###  Label counting"
   ]
  },
  {
   "cell_type": "code",
   "execution_count": 96,
   "id": "40a0f0f7",
   "metadata": {},
   "outputs": [
    {
     "data": {
      "text/html": [
       "<div>\n",
       "<style scoped>\n",
       "    .dataframe tbody tr th:only-of-type {\n",
       "        vertical-align: middle;\n",
       "    }\n",
       "\n",
       "    .dataframe tbody tr th {\n",
       "        vertical-align: top;\n",
       "    }\n",
       "\n",
       "    .dataframe thead th {\n",
       "        text-align: right;\n",
       "    }\n",
       "</style>\n",
       "<table border=\"1\" class=\"dataframe\">\n",
       "  <thead>\n",
       "    <tr style=\"text-align: right;\">\n",
       "      <th></th>\n",
       "      <th>sentence</th>\n",
       "    </tr>\n",
       "    <tr>\n",
       "      <th>emotion</th>\n",
       "      <th></th>\n",
       "    </tr>\n",
       "  </thead>\n",
       "  <tbody>\n",
       "    <tr>\n",
       "      <th>1</th>\n",
       "      <td>2999</td>\n",
       "    </tr>\n",
       "    <tr>\n",
       "      <th>2</th>\n",
       "      <td>2129</td>\n",
       "    </tr>\n",
       "    <tr>\n",
       "      <th>3</th>\n",
       "      <td>1343</td>\n",
       "    </tr>\n",
       "    <tr>\n",
       "      <th>4</th>\n",
       "      <td>1442</td>\n",
       "    </tr>\n",
       "    <tr>\n",
       "      <th>5</th>\n",
       "      <td>1470</td>\n",
       "    </tr>\n",
       "    <tr>\n",
       "      <th>6</th>\n",
       "      <td>1384</td>\n",
       "    </tr>\n",
       "    <tr>\n",
       "      <th>7</th>\n",
       "      <td>1138</td>\n",
       "    </tr>\n",
       "    <tr>\n",
       "      <th>8</th>\n",
       "      <td>2095</td>\n",
       "    </tr>\n",
       "  </tbody>\n",
       "</table>\n",
       "</div>"
      ],
      "text/plain": [
       "         sentence\n",
       "emotion          \n",
       "1            2999\n",
       "2            2129\n",
       "3            1343\n",
       "4            1442\n",
       "5            1470\n",
       "6            1384\n",
       "7            1138\n",
       "8            2095"
      ]
     },
     "execution_count": 96,
     "metadata": {},
     "output_type": "execute_result"
    }
   ],
   "source": [
    "data.groupby('emotion').count()"
   ]
  },
  {
   "cell_type": "code",
   "execution_count": 97,
   "id": "72f2d809",
   "metadata": {},
   "outputs": [
    {
     "data": {
      "text/plain": [
       "<AxesSubplot:xlabel='emotion'>"
      ]
     },
     "execution_count": 97,
     "metadata": {},
     "output_type": "execute_result"
    },
    {
     "data": {
      "image/png": "[encoded data removed]",
      "text/plain": [
       "<Figure size 720x432 with 1 Axes>"
      ]
     },
     "metadata": {
      "needs_background": "light"
     },
     "output_type": "display_data"
    }
   ],
   "source": [
    "# Plotting the cardinality of the different 'emotion' labels\n",
    "\n",
    "data.groupby('emotion').count().plot.bar(figsize=(10,6))"
   ]
  },
  {
   "cell_type": "code",
   "execution_count": 103,
   "id": "061b80da",
   "metadata": {},
   "outputs": [],
   "source": [
    "## Or by using Professors code - Word count\n",
    "\n",
    "def label_counter(dataframe, field):\n",
    "    \"\"\"\n",
    "    Function that receives a dataframe and the field whose labels you want to count, and\n",
    "    returns the amount of examples with those labels in the Pandas dataframe.\n",
    "    \"\"\"    \n",
    "    return dataframe[field].value_counts()"
   ]
  },
  {
   "cell_type": "code",
   "execution_count": 104,
   "id": "047aa770",
   "metadata": {},
   "outputs": [
    {
     "data": {
      "text/plain": [
       "1    2999\n",
       "2    2129\n",
       "8    2095\n",
       "5    1470\n",
       "4    1442\n",
       "6    1384\n",
       "3    1343\n",
       "7    1138\n",
       "Name: emotion, dtype: int64"
      ]
     },
     "execution_count": 104,
     "metadata": {},
     "output_type": "execute_result"
    }
   ],
   "source": [
    "label_counter(data, 'emotion')"
   ]
  },
  {
   "cell_type": "markdown",
   "id": "521c3611",
   "metadata": {},
   "source": [
    "## Word Counting"
   ]
  },
  {
   "cell_type": "code",
   "execution_count": 98,
   "id": "7406e903",
   "metadata": {},
   "outputs": [],
   "source": [
    "def word_counter(text_list):\n",
    "    \"\"\"\n",
    "    Function that receives a list of strings and returns the (absolute) frequency of each word in that list of strings.\n",
    "    \"\"\"\n",
    "    words_in_df = ' '.join(text_list).split()\n",
    "    \n",
    "    # Count all words \n",
    "    freq = pd.Series(words_in_df).value_counts()\n",
    "    return freq"
   ]
  },
  {
   "cell_type": "code",
   "execution_count": 99,
   "id": "510a16ea",
   "metadata": {},
   "outputs": [
    {
     "data": {
      "text/plain": [
       ".           10600\n",
       ",            5738\n",
       "you          3502\n",
       "I            3208\n",
       "to           2862\n",
       "the          2703\n",
       "?            2696\n",
       "a            2320\n",
       "!            1608\n",
       "[PERSON]     1386\n",
       "of           1358\n",
       "and          1266\n",
       "me           1195\n",
       "it           1193\n",
       "that         1156\n",
       "in           1083\n",
       "You           950\n",
       "is            902\n",
       "for           847\n",
       "be            761\n",
       "this          757\n",
       "I'm           738\n",
       "have          727\n",
       "your          690\n",
       "my            678\n",
       "dtype: int64"
      ]
     },
     "execution_count": 99,
     "metadata": {},
     "output_type": "execute_result"
    }
   ],
   "source": [
    "word_counter(list(data['sentence']))[:25]\n",
    "\n",
    "# The majority of the top 25 most frequent words are either ponctuation or stop words"
   ]
  },
  {
   "cell_type": "code",
   "execution_count": 104,
   "id": "b6718792",
   "metadata": {},
   "outputs": [],
   "source": [
    "def check_language(data):\n",
    "    \"\"\" Function that receives a dataset as input, and retrieves as an output the different \n",
    "    languages that exists inside the dataset and the number of lines in which the language\n",
    "    is detected.\n",
    "    \"\"\"    \n",
    "    \n",
    "    final_list=[]\n",
    "    for i in data.index:\n",
    "        _,_,detected_language= list(cld2.detect((data['sentence'][i])))\n",
    "        final_list.append(detected_language[0])\n",
    "    final_list\n",
    "    language_list = []\n",
    "    for i in range(len(final_list)):\n",
    "        temp_lang = language[i][0]\n",
    "        language_list.append(temp_lang)\n",
    "    language_list\n",
    "    return Counter(language_list).most_common()\n"
   ]
  },
  {
   "cell_type": "code",
   "execution_count": 105,
   "id": "467ab3ec",
   "metadata": {
    "scrolled": true
   },
   "outputs": [
    {
     "data": {
      "text/plain": [
       "[('ENGLISH', 7375),\n",
       " ('Unknown', 6387),\n",
       " ('SCOTS', 79),\n",
       " ('X_PIG_LATIN', 21),\n",
       " ('ALBANIAN', 13),\n",
       " ('INTERLINGUA', 11),\n",
       " ('DANISH', 11),\n",
       " ('INDONESIAN', 8),\n",
       " ('CZECH', 8),\n",
       " ('PORTUGUESE', 7),\n",
       " ('FRENCH', 7),\n",
       " ('ROMANIAN', 6),\n",
       " ('TONGA', 6),\n",
       " ('INTERLINGUE', 4),\n",
       " ('FRISIAN', 4),\n",
       " ('YORUBA', 3),\n",
       " ('XHOSA', 3),\n",
       " ('KINYARWANDA', 3),\n",
       " ('SESELWA', 3),\n",
       " ('CATALAN', 3),\n",
       " ('RHAETO_ROMANCE', 3),\n",
       " ('FINNISH', 2),\n",
       " ('IRISH', 2),\n",
       " ('BISLAMA', 2),\n",
       " ('BRETON', 2),\n",
       " ('LATIN', 2),\n",
       " ('JAVANESE', 2),\n",
       " ('MAURITIAN_CREOLE', 2),\n",
       " ('NORWEGIAN', 2),\n",
       " ('SCOTS_GAELIC', 1),\n",
       " ('SPANISH', 1),\n",
       " ('LUXEMBOURGISH', 1),\n",
       " ('CORSICAN', 1),\n",
       " ('FAROESE', 1),\n",
       " ('WARAY_PHILIPPINES', 1),\n",
       " ('BASQUE', 1),\n",
       " ('VOLAPUK', 1),\n",
       " ('SLOVENIAN', 1),\n",
       " ('OCCITAN', 1),\n",
       " ('MANX', 1),\n",
       " ('HAUSA', 1),\n",
       " ('AFRIKAANS', 1),\n",
       " ('WOLOF', 1),\n",
       " ('HAWAIIAN', 1),\n",
       " ('HAITIAN_CREOLE', 1),\n",
       " ('AZERBAIJANI', 1),\n",
       " ('SLOVAK', 1),\n",
       " ('DUTCH', 1)]"
      ]
     },
     "execution_count": 105,
     "metadata": {},
     "output_type": "execute_result"
    }
   ],
   "source": [
    "check_language(data)"
   ]
  },
  {
   "cell_type": "code",
   "execution_count": 107,
   "id": "ed8ce897",
   "metadata": {},
   "outputs": [
    {
     "data": {
      "text/plain": [
       "sentence    You mean , people can hear me now ?\n",
       "emotion                                       7\n",
       "Name: 1345, dtype: object"
      ]
     },
     "execution_count": 107,
     "metadata": {},
     "output_type": "execute_result"
    }
   ],
   "source": [
    "data.iloc[1345]"
   ]
  },
  {
   "cell_type": "markdown",
   "id": "002b9a4f",
   "metadata": {},
   "source": [
    "## Models as benchmark\n",
    "\n",
    "- **Weaker Baseline**: \n",
    "    - Pre-processing: Removing everything but letters, ‘?’ and ‘!’; stemming; stop word removal.\n",
    "    - CountVectorizer + KNN\n",
    "    - With Accuracy of 27%\n",
    "- **Stronger Baseline**:\n",
    "    - preprocessing\n",
    "    - CountVectorizer\n",
    "    - SVC ( Linear Kernel)"
   ]
  },
  {
   "cell_type": "markdown",
   "id": "596611a3",
   "metadata": {},
   "source": [
    "# NLP Pipeline - Weaker Baseline\n",
    "\n",
    "- Pre-processing: Removing everything but letters, ‘?’ and ‘!’; stemming; stop word removal.\n",
    "    - CountVectorizer + KNN\n",
    "    - With Accuracy of 27%\n",
    "\n",
    "## Initial Pre-processing"
   ]
  },
  {
   "cell_type": "code",
   "execution_count": 47,
   "id": "7c582ddf",
   "metadata": {},
   "outputs": [],
   "source": [
    "stop = set(stopwords.words('english'))\n",
    "exclude = set(string.punctuation)\n",
    "lemma = WordNetLemmatizer()"
   ]
  },
  {
   "cell_type": "code",
   "execution_count": 48,
   "id": "d33c4fde",
   "metadata": {},
   "outputs": [
    {
     "data": {
      "text/plain": [
       "179"
      ]
     },
     "execution_count": 48,
     "metadata": {},
     "output_type": "execute_result"
    }
   ],
   "source": [
    "# Size of unique stop words\n",
    "\n",
    "len(stop)"
   ]
  },
  {
   "cell_type": "code",
   "execution_count": 49,
   "id": "98d3cb6a",
   "metadata": {},
   "outputs": [
    {
     "data": {
      "text/plain": [
       "32"
      ]
     },
     "execution_count": 49,
     "metadata": {},
     "output_type": "execute_result"
    }
   ],
   "source": [
    "# Ponctuation unique characters inside exclude set\n",
    "\n",
    "len(exclude)"
   ]
  },
  {
   "cell_type": "code",
   "execution_count": 110,
   "id": "6b91c5be",
   "metadata": {},
   "outputs": [
    {
     "data": {
      "text/plain": [
       "\"I'm too old to be traded in .\""
      ]
     },
     "execution_count": 110,
     "metadata": {},
     "output_type": "execute_result"
    }
   ],
   "source": [
    "data['sentence'][0]"
   ]
  },
  {
   "cell_type": "markdown",
   "id": "2c977ad1",
   "metadata": {},
   "source": [
    "### Clean function\n",
    "\n",
    "- Lower cases\n",
    "- apply stemmatization/lemmatization \n",
    "- Remove numerical data and punctuation\n",
    "- Remove tags (with beautifulsoup)\n",
    "\n",
    "\n",
    "(tdqm - Instantly make your loops show a smart progress meter - just wrap any iterable with tqdm(iterable), and you're done)"
   ]
  },
  {
   "cell_type": "code",
   "execution_count": 50,
   "id": "540bd657",
   "metadata": {},
   "outputs": [],
   "source": [
    "snowball_stemmer = SnowballStemmer('english')\n",
    "\n",
    "def clean(text_list, lemmatize, stemmer):\n",
    "    \"\"\"\n",
    "    Function that a receives a list of strings and preprocesses it.\n",
    "    \n",
    "    :param text_list: List of strings.\n",
    "    :param lemmatize: Tag to apply lemmatization if True.\n",
    "    :param stemmer: Tag to apply the stemmer if True.\n",
    "    \"\"\"\n",
    "    updates = []\n",
    "    for j in tqdm(range(len(text_list))):\n",
    "        \n",
    "        text = text_list[j]\n",
    "        \n",
    "        #LOWERCASE TEXT\n",
    "        text = text.lower()\n",
    "        \n",
    "        #REMOVE NUMERICAL DATA AND PUNCTUATION\n",
    "        text = re.sub(\"[^a-zA-Z!?]\", ' ', text) # falta ? e !\n",
    "        \n",
    "        #REMOVE STOP WORDS\n",
    "        text = \" \".join([word for word in text.split() if word not in stop])\n",
    "        \n",
    "        #REMOVE TAGS\n",
    "        text = BeautifulSoup(text).get_text()\n",
    "        \n",
    "        if lemmatize:\n",
    "            text = \" \".join(lemma.lemmatize(word) for word in text.split())\n",
    "        \n",
    "        if stemmer:\n",
    "            text = \" \".join(snowball_stemmer.stem(word) for word in text.split())\n",
    "        \n",
    "        updates.append(text)\n",
    "        \n",
    "    return updates\n",
    "\n",
    "def update_df(dataframe, list_updated):\n",
    "    dataframe.update(pd.DataFrame({\"sentence\": list_updated}))"
   ]
  },
  {
   "cell_type": "code",
   "execution_count": 51,
   "id": "31172087",
   "metadata": {},
   "outputs": [
    {
     "name": "stderr",
     "output_type": "stream",
     "text": [
      "/var/folders/gl/_jrjbthx3mdbjrh_13kh3xm80000gn/T/ipykernel_14903/1919345334.py:12: TqdmDeprecationWarning: This function will be removed in tqdm==5.0.0\n",
      "Please use `tqdm.notebook.tqdm` instead of `tqdm.tqdm_notebook`\n",
      "  for j in tqdm(range(len(text_list))):\n"
     ]
    },
    {
     "data": {
      "application/vnd.jupyter.widget-view+json": {
       "model_id": "c82a0257ad724dde80326b3a041d67ef",
       "version_major": 2,
       "version_minor": 0
      },
      "text/plain": [
       "  0%|          | 0/14000 [00:00<?, ?it/s]"
      ]
     },
     "metadata": {},
     "output_type": "display_data"
    }
   ],
   "source": [
    "# Applying the cleaning function to the 'sentence' column of our dataset\n",
    "# Lemmer false\n",
    "# Stemmer true \n",
    "\n",
    "updated_data = clean(data['sentence'], lemmatize = False, stemmer = True)"
   ]
  },
  {
   "cell_type": "code",
   "execution_count": 52,
   "id": "eec7d2aa",
   "metadata": {},
   "outputs": [
    {
     "data": {
      "text/html": [
       "<div>\n",
       "<style scoped>\n",
       "    .dataframe tbody tr th:only-of-type {\n",
       "        vertical-align: middle;\n",
       "    }\n",
       "\n",
       "    .dataframe tbody tr th {\n",
       "        vertical-align: top;\n",
       "    }\n",
       "\n",
       "    .dataframe thead th {\n",
       "        text-align: right;\n",
       "    }\n",
       "</style>\n",
       "<table border=\"1\" class=\"dataframe\">\n",
       "  <thead>\n",
       "    <tr style=\"text-align: right;\">\n",
       "      <th></th>\n",
       "      <th>sentence</th>\n",
       "      <th>emotion</th>\n",
       "    </tr>\n",
       "  </thead>\n",
       "  <tbody>\n",
       "    <tr>\n",
       "      <th>0</th>\n",
       "      <td>old trade</td>\n",
       "      <td>6</td>\n",
       "    </tr>\n",
       "    <tr>\n",
       "      <th>1</th>\n",
       "      <td>mother said could alway tell ladi hand</td>\n",
       "      <td>8</td>\n",
       "    </tr>\n",
       "    <tr>\n",
       "      <th>2</th>\n",
       "      <td>alway said leav time came</td>\n",
       "      <td>6</td>\n",
       "    </tr>\n",
       "  </tbody>\n",
       "</table>\n",
       "</div>"
      ],
      "text/plain": [
       "                                 sentence  emotion\n",
       "0                               old trade        6\n",
       "1  mother said could alway tell ladi hand        8\n",
       "2               alway said leav time came        6"
      ]
     },
     "execution_count": 52,
     "metadata": {},
     "output_type": "execute_result"
    }
   ],
   "source": [
    "# Update the data frame\n",
    "\n",
    "update_df(data, updated_data)\n",
    "data.head(3)\n"
   ]
  },
  {
   "cell_type": "markdown",
   "id": "a7cb77db",
   "metadata": {},
   "source": [
    "## Feature Extraction with bag-of-words\n",
    "\n",
    "- max_df -> When building the vocabulary ignore terms that have a document frequency strictly higher than the given threshold (corpus-specific stop words). If float, the parameter represents a proportion of documents, integer absolute counts. This parameter is ignored if vocabulary is not None."
   ]
  },
  {
   "cell_type": "code",
   "execution_count": 53,
   "id": "0a49d778",
   "metadata": {},
   "outputs": [],
   "source": [
    "# Defining CV\n",
    "\n",
    "cv = CountVectorizer(max_df=0.9, binary=True)"
   ]
  },
  {
   "cell_type": "code",
   "execution_count": 54,
   "id": "ad476373",
   "metadata": {},
   "outputs": [],
   "source": [
    "X = cv.fit_transform(data[\"sentence\"])\n",
    "y = np.array(data['emotion'])"
   ]
  },
  {
   "cell_type": "code",
   "execution_count": 55,
   "id": "183d3f87",
   "metadata": {},
   "outputs": [
    {
     "data": {
      "text/plain": [
       "(14000, 5228)"
      ]
     },
     "execution_count": 55,
     "metadata": {},
     "output_type": "execute_result"
    }
   ],
   "source": [
    "X.shape"
   ]
  },
  {
   "cell_type": "markdown",
   "id": "17131510",
   "metadata": {},
   "source": [
    "## Training the model with KNN classifier"
   ]
  },
  {
   "cell_type": "code",
   "execution_count": 15,
   "id": "de9369fe",
   "metadata": {},
   "outputs": [],
   "source": [
    "modelknn = KNeighborsClassifier(n_neighbors=5, weights='distance', algorithm='brute', leaf_size=30, p=2,\n",
    "                                         metric='cosine', metric_params=None, n_jobs=1)"
   ]
  },
  {
   "cell_type": "code",
   "execution_count": 16,
   "id": "250f0455",
   "metadata": {},
   "outputs": [
    {
     "data": {
      "text/plain": [
       "KNeighborsClassifier(algorithm='brute', metric='cosine', n_jobs=1,\n",
       "                     weights='distance')"
      ]
     },
     "execution_count": 16,
     "metadata": {},
     "output_type": "execute_result"
    }
   ],
   "source": [
    "modelknn.fit(X,y)"
   ]
  },
  {
   "cell_type": "markdown",
   "id": "51213656",
   "metadata": {},
   "source": [
    "## Testing the model"
   ]
  },
  {
   "cell_type": "markdown",
   "id": "d635bac7",
   "metadata": {},
   "source": [
    "### Applying the same pre-processing to the validation set"
   ]
  },
  {
   "cell_type": "code",
   "execution_count": 56,
   "id": "60b62b62",
   "metadata": {},
   "outputs": [
    {
     "name": "stderr",
     "output_type": "stream",
     "text": [
      "/var/folders/gl/_jrjbthx3mdbjrh_13kh3xm80000gn/T/ipykernel_14903/1919345334.py:12: TqdmDeprecationWarning: This function will be removed in tqdm==5.0.0\n",
      "Please use `tqdm.notebook.tqdm` instead of `tqdm.tqdm_notebook`\n",
      "  for j in tqdm(range(len(text_list))):\n"
     ]
    },
    {
     "data": {
      "application/vnd.jupyter.widget-view+json": {
       "model_id": "433d380b229c4303ac583e250a2f1970",
       "version_major": 2,
       "version_minor": 0
      },
      "text/plain": [
       "  0%|          | 0/1000 [00:00<?, ?it/s]"
      ]
     },
     "metadata": {},
     "output_type": "display_data"
    }
   ],
   "source": [
    "updated_val = clean(val['sentence'], lemmatize = False, stemmer = True)\n",
    "update_df(val, updated_val)"
   ]
  },
  {
   "cell_type": "code",
   "execution_count": 57,
   "id": "0abaf512",
   "metadata": {},
   "outputs": [],
   "source": [
    "# Cv transform no val set\n",
    "\n",
    "Val = cv.transform(val['sentence'])"
   ]
  },
  {
   "cell_type": "code",
   "execution_count": 58,
   "id": "fd469d8e",
   "metadata": {},
   "outputs": [],
   "source": [
    "predict = modelknn.predict(Val)\n",
    "y = np.array(val['emotion'])"
   ]
  },
  {
   "cell_type": "markdown",
   "id": "8e6634cd",
   "metadata": {},
   "source": [
    "## Evaluation"
   ]
  },
  {
   "cell_type": "code",
   "execution_count": 59,
   "id": "772415ec",
   "metadata": {},
   "outputs": [
    {
     "name": "stdout",
     "output_type": "stream",
     "text": [
      "              precision    recall  f1-score   support\n",
      "\n",
      "           1       0.52      0.32      0.40       338\n",
      "           2       0.29      0.27      0.28       185\n",
      "           3       0.06      0.14      0.09        37\n",
      "           4       0.19      0.21      0.20        95\n",
      "           5       0.30      0.30      0.30        97\n",
      "           6       0.15      0.26      0.19        50\n",
      "           7       0.18      0.21      0.19        80\n",
      "           8       0.19      0.25      0.22       118\n",
      "\n",
      "    accuracy                           0.27      1000\n",
      "   macro avg       0.24      0.25      0.23      1000\n",
      "weighted avg       0.32      0.27      0.29      1000\n",
      "\n"
     ]
    }
   ],
   "source": [
    "print (classification_report(predict, y))"
   ]
  },
  {
   "cell_type": "markdown",
   "id": "7e9c3e46",
   "metadata": {},
   "source": [
    "## Models as benchmark\n",
    "\n",
    "- **Weaker Baseline**: \n",
    "    - Pre-processing: Removing everything but letters, ‘?’ and ‘!’; stemming; stop word removal.\n",
    "    - CountVectorizer + KNN\n",
    "    - With Accuracy of 27%\n",
    "- **Stronger Baseline**:\n",
    "    - preprocessing\n",
    "    - CountVectorizer\n",
    "    - SVC ( Linear Kernel)\n"
   ]
  },
  {
   "cell_type": "markdown",
   "id": "0c9d1a5e",
   "metadata": {},
   "source": [
    "## Checking the present languages in the text - Pycld2 (UNDER CONSTRUCTION)"
   ]
  }
 ],
 "metadata": {
  "kernelspec": {
   "display_name": "Python 3 (ipykernel)",
   "language": "python",
   "name": "python3"
  },
  "language_info": {
   "codemirror_mode": {
    "name": "ipython",
    "version": 3
   },
   "file_extension": ".py",
   "mimetype": "text/x-python",
   "name": "python",
   "nbconvert_exporter": "python",
   "pygments_lexer": "ipython3",
   "version": "3.9.12"
  }
 },
 "nbformat": 4,
 "nbformat_minor": 5
}
