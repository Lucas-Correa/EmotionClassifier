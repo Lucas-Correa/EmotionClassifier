{
 "cells": [
  {
   "cell_type": "code",
   "execution_count": 76,
   "id": "f4cfa8d4-ca0c-4f83-8207-84fe99576d38",
   "metadata": {},
   "outputs": [],
   "source": [
    "import pandas as pd\n",
    "import numpy as np\n",
    "import nltk\n",
    "import re\n",
    "#nltk.download('stopwords')\n",
    "#nltk.download('wordnet')\n",
    "from nltk.corpus import stopwords\n",
    "from nltk.stem.wordnet import WordNetLemmatizer\n",
    "\n",
    "from sklearn.feature_extraction.text import TfidfVectorizer\n",
    "\n",
    "from sklearn.naive_bayes import GaussianNB\n",
    "from sklearn.metrics import classification_report\n"
   ]
  },
  {
   "cell_type": "code",
   "execution_count": 5,
   "id": "bc9572ae-7747-4cbf-9d46-c78cb00d4c3b",
   "metadata": {},
   "outputs": [
    {
     "data": {
      "text/html": [
       "<div>\n",
       "<style scoped>\n",
       "    .dataframe tbody tr th:only-of-type {\n",
       "        vertical-align: middle;\n",
       "    }\n",
       "\n",
       "    .dataframe tbody tr th {\n",
       "        vertical-align: top;\n",
       "    }\n",
       "\n",
       "    .dataframe thead th {\n",
       "        text-align: right;\n",
       "    }\n",
       "</style>\n",
       "<table border=\"1\" class=\"dataframe\">\n",
       "  <thead>\n",
       "    <tr style=\"text-align: right;\">\n",
       "      <th></th>\n",
       "      <th>sentence</th>\n",
       "      <th>emotion</th>\n",
       "    </tr>\n",
       "  </thead>\n",
       "  <tbody>\n",
       "    <tr>\n",
       "      <th>0</th>\n",
       "      <td>I'm too old to be traded in .</td>\n",
       "      <td>6</td>\n",
       "    </tr>\n",
       "    <tr>\n",
       "      <th>1</th>\n",
       "      <td>Mother said you could always tell a lady by he...</td>\n",
       "      <td>8</td>\n",
       "    </tr>\n",
       "    <tr>\n",
       "      <th>2</th>\n",
       "      <td>I always said I'd leave off when the time came .</td>\n",
       "      <td>6</td>\n",
       "    </tr>\n",
       "    <tr>\n",
       "      <th>3</th>\n",
       "      <td>He'll be safe with me .</td>\n",
       "      <td>2</td>\n",
       "    </tr>\n",
       "    <tr>\n",
       "      <th>4</th>\n",
       "      <td>Lay off .</td>\n",
       "      <td>1</td>\n",
       "    </tr>\n",
       "  </tbody>\n",
       "</table>\n",
       "</div>"
      ],
      "text/plain": [
       "                                            sentence  emotion\n",
       "0                      I'm too old to be traded in .        6\n",
       "1  Mother said you could always tell a lady by he...        8\n",
       "2   I always said I'd leave off when the time came .        6\n",
       "3                            He'll be safe with me .        2\n",
       "4                                          Lay off .        1"
      ]
     },
     "execution_count": 5,
     "metadata": {},
     "output_type": "execute_result"
    }
   ],
   "source": [
    "#download data\n",
    "sentence = pd.read_csv(\"Data-20220517/training_set.txt\",sep='\\t',header=0)\n",
    "dev_set = pd.read_csv(\"Data-20220517/dev_set.txt\",sep='\\t',header=0)\n",
    "\n",
    "sentence.head()"
   ]
  },
  {
   "cell_type": "code",
   "execution_count": 71,
   "id": "9c087ed1-7486-4c6d-a9e2-807096978821",
   "metadata": {},
   "outputs": [],
   "source": [
    "def preprocessing(text):\n",
    "    \n",
    "    processed_corpus = []\n",
    "    stop_words = set(stopwords.words(\"english\"))\n",
    "\n",
    "    # Remove punctuations\n",
    "    text = re.sub('[^a-zA-Z]', ' ', text)\n",
    "\n",
    "    # Convert to lowercase\n",
    "    text = text.lower()        \n",
    "\n",
    "    # Convert to list from string\n",
    "    text = text.split()\n",
    "\n",
    "    # Lemmatization\n",
    "    lem = WordNetLemmatizer()\n",
    "    text = [lem.lemmatize(word) for word in text if not word in stop_words] \n",
    "    text = \" \".join(text)\n",
    "    processed_corpus.append(text)\n",
    "        \n",
    "    return processed_corpus"
   ]
  },
  {
   "cell_type": "code",
   "execution_count": 90,
   "id": "25cf821b-c1de-412b-abfd-34add797470b",
   "metadata": {},
   "outputs": [],
   "source": [
    "#transforme a corpus into a Tfidf matrix (n,m) where n is the number of texts and m the words\n",
    "TfidfVec = TfidfVectorizer(\n",
    "            max_df=0.8,\n",
    "            max_features=10000, \n",
    "            ngram_range=(1,3),\n",
    "            tokenizer=preprocessing\n",
    "            )\n",
    "\n",
    "Tfidf_matrix = TfidfVec.fit_transform(sentence.sentence)\n",
    "\n",
    "#train a model based in the Tfidf_matrix \n",
    "clf = GaussianNB()\n",
    "clf.fit(Tfidf_matrix.toarray(),sentence.emotion.values)"
   ]
  },
  {
   "cell_type": "code",
   "execution_count": 95,
   "id": "6ca248b9-2a13-4fbe-b225-2c1c0a2d5d3c",
   "metadata": {},
   "outputs": [
    {
     "name": "stdout",
     "output_type": "stream",
     "text": [
      "              precision    recall  f1-score   support\n",
      "\n",
      "        Fear       0.46      0.03      0.05       211\n",
      "       Trust       0.30      0.02      0.03       170\n",
      "    Surprise       0.10      0.01      0.02        77\n",
      "Anticipation       0.16      0.03      0.05       104\n",
      "       Anger       0.28      0.05      0.09        97\n",
      "     Disgust       0.33      0.07      0.11        87\n",
      "     Sadness       0.10      0.93      0.18        96\n",
      "         Joy       0.25      0.01      0.01       158\n",
      "\n",
      "    accuracy                           0.11      1000\n",
      "   macro avg       0.25      0.14      0.07      1000\n",
      "weighted avg       0.28      0.11      0.06      1000\n",
      "\n"
     ]
    }
   ],
   "source": [
    "#creat a Tfidf matrix for dev set based on the fit Tfidf matrix by the train\n",
    "tf_idf_vector_dev = TfidfVec.transform(dev_set.sentence)\n",
    "\n",
    "#predict for new sentences of the dev set\n",
    "y_pred = clf.predict(tf_idf_vector_dev.toarray())\n",
    "Y_test = dev_set.emotion.values\n",
    "\n",
    "#compare the ground truth and show results\n",
    "x = dev_set.emotion.unique()\n",
    "condlist= [x==1,x==2,x==3,x==4,x==5,x==6,x==7,x==8]\n",
    "choicelist = ['Anger','Anticipation','Disgust','Fear','Joy','Sadness','Surprise','Trust']\n",
    "category_names = list(np.select(condlist, choicelist))\n",
    "\n",
    "print(classification_report(Y_test, y_pred, target_names=category_names,zero_division=1))"
   ]
  }
 ],
 "metadata": {
  "kernelspec": {
   "display_name": "Python 3 (ipykernel)",
   "language": "python",
   "name": "python3"
  },
  "language_info": {
   "codemirror_mode": {
    "name": "ipython",
    "version": 3
   },
   "file_extension": ".py",
   "mimetype": "text/x-python",
   "name": "python",
   "nbconvert_exporter": "python",
   "pygments_lexer": "ipython3",
   "version": "3.9.7"
  }
 },
 "nbformat": 4,
 "nbformat_minor": 5
}
