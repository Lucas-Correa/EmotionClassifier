{
 "cells": [
  {
   "cell_type": "code",
   "execution_count": 1,
   "id": "f4cfa8d4-ca0c-4f83-8207-84fe99576d38",
   "metadata": {},
   "outputs": [],
   "source": [
    "import pandas as pd\n",
    "import numpy as np\n",
    "import nltk\n",
    "import re\n",
    "#nltk.download('stopwords')\n",
    "#nltk.download('wordnet')\n",
    "from nltk.corpus import stopwords\n",
    "from nltk.stem.wordnet import WordNetLemmatizer\n",
    "from bs4 import BeautifulSoup\n",
    "\n",
    "from sklearn.feature_extraction.text import TfidfVectorizer\n",
    "\n",
    "from sklearn.naive_bayes import GaussianNB\n",
    "from sklearn.naive_bayes import MultinomialNB\n",
    "from sklearn.ensemble import RandomForestClassifier\n",
    "from sklearn.svm import SVC\n",
    "from sklearn.neural_network import MLPClassifier\n",
    "from sklearn.neighbors import KNeighborsClassifier\n",
    "from sklearn.multioutput import MultiOutputClassifier\n",
    "from sklearn.linear_model import LogisticRegression\n",
    "from sklearn.metrics import classification_report\n"
   ]
  },
  {
   "cell_type": "code",
   "execution_count": 2,
   "id": "bc9572ae-7747-4cbf-9d46-c78cb00d4c3b",
   "metadata": {},
   "outputs": [
    {
     "data": {
      "text/html": [
       "<div>\n",
       "<style scoped>\n",
       "    .dataframe tbody tr th:only-of-type {\n",
       "        vertical-align: middle;\n",
       "    }\n",
       "\n",
       "    .dataframe tbody tr th {\n",
       "        vertical-align: top;\n",
       "    }\n",
       "\n",
       "    .dataframe thead th {\n",
       "        text-align: right;\n",
       "    }\n",
       "</style>\n",
       "<table border=\"1\" class=\"dataframe\">\n",
       "  <thead>\n",
       "    <tr style=\"text-align: right;\">\n",
       "      <th></th>\n",
       "      <th>sentence</th>\n",
       "      <th>emotion</th>\n",
       "    </tr>\n",
       "  </thead>\n",
       "  <tbody>\n",
       "    <tr>\n",
       "      <th>0</th>\n",
       "      <td>I'm too old to be traded in .</td>\n",
       "      <td>6</td>\n",
       "    </tr>\n",
       "    <tr>\n",
       "      <th>1</th>\n",
       "      <td>Mother said you could always tell a lady by he...</td>\n",
       "      <td>8</td>\n",
       "    </tr>\n",
       "    <tr>\n",
       "      <th>2</th>\n",
       "      <td>I always said I'd leave off when the time came .</td>\n",
       "      <td>6</td>\n",
       "    </tr>\n",
       "    <tr>\n",
       "      <th>3</th>\n",
       "      <td>He'll be safe with me .</td>\n",
       "      <td>2</td>\n",
       "    </tr>\n",
       "    <tr>\n",
       "      <th>4</th>\n",
       "      <td>Lay off .</td>\n",
       "      <td>1</td>\n",
       "    </tr>\n",
       "  </tbody>\n",
       "</table>\n",
       "</div>"
      ],
      "text/plain": [
       "                                            sentence  emotion\n",
       "0                      I'm too old to be traded in .        6\n",
       "1  Mother said you could always tell a lady by he...        8\n",
       "2   I always said I'd leave off when the time came .        6\n",
       "3                            He'll be safe with me .        2\n",
       "4                                          Lay off .        1"
      ]
     },
     "execution_count": 2,
     "metadata": {},
     "output_type": "execute_result"
    }
   ],
   "source": [
    "#download data\n",
    "sentence = pd.read_csv(\"Data-20220517/training_set.txt\",sep='\\t',header=0)\n",
    "dev_set = pd.read_csv(\"Data-20220517/dev_set.txt\",sep='\\t',header=0)\n",
    "\n",
    "sentence.head()"
   ]
  },
  {
   "cell_type": "code",
   "execution_count": 3,
   "id": "9c087ed1-7486-4c6d-a9e2-807096978821",
   "metadata": {},
   "outputs": [
    {
     "data": {
      "text/plain": [
       "['old', 'traded']"
      ]
     },
     "execution_count": 3,
     "metadata": {},
     "output_type": "execute_result"
    }
   ],
   "source": [
    "#define preprocessing function that will be used in the TfidfVectorizer\n",
    "def preprocessing(text):\n",
    "    \n",
    "    processed_corpus = []\n",
    "    stop_words = set(stopwords.words(\"english\"))\n",
    "\n",
    "    # Remove punctuations\n",
    "    text = re.sub('[^a-zA-Z!?]', ' ', text)\n",
    "\n",
    "    # Convert to lowercase\n",
    "    text = text.lower()        \n",
    "\n",
    "    # Convert to list from string\n",
    "    text = text.split()\n",
    "    \n",
    "    # Lemmatization\n",
    "    lem = WordNetLemmatizer()\n",
    "    text = [lem.lemmatize(word) for word in text if not word in stop_words] \n",
    "        \n",
    "    return text\n",
    "\n",
    "preprocessing(sentence.sentence[0])"
   ]
  },
  {
   "cell_type": "code",
   "execution_count": 4,
   "id": "6ca248b9-2a13-4fbe-b225-2c1c0a2d5d3c",
   "metadata": {},
   "outputs": [],
   "source": [
    "#function that show results for several classifiers \n",
    "def Classifier_tester(X,y):\n",
    "    \n",
    "    clf_lis =[\n",
    "              MultinomialNB(),\n",
    "              RandomForestClassifier(max_depth=5),\n",
    "              #MultiOutputClassifier(LogisticRegression()),\n",
    "              GaussianNB(),\n",
    "              #SVC(kernel='linear'),\n",
    "              KNeighborsClassifier(n_neighbors=5),\n",
    "              MLPClassifier(hidden_layer_sizes=(5,5,3))\n",
    "             ]\n",
    "    \n",
    "    #save the list of category names in the order they appear in class. report.\n",
    "    x = dev_set.emotion.unique()\n",
    "    condlist= [x==1,x==2,x==3,x==4,x==5,x==6,x==7,x==8]\n",
    "    choicelist = ['Anger','Anticipation','Disgust','Fear','Joy','Sadness','Surprise','Trust']\n",
    "    category_names = list(np.select(condlist, choicelist))\n",
    "    \n",
    "    results = dict()\n",
    "    for clf in clf_lis:\n",
    "        print(str(clf))\n",
    "        #train the clf\n",
    "        clf.fit(X,y)\n",
    "     \n",
    "        #creat a Tfidf matrix for dev set based on the fit Tfidf matrix by the train\n",
    "        tf_idf_vector_dev = TfidfVec.transform(dev_set.sentence)\n",
    "\n",
    "        #predict for new sentences of the dev set\n",
    "        y_pred = clf.predict(tf_idf_vector_dev.toarray())\n",
    "        Y_test = dev_set.emotion.values\n",
    "        \n",
    "        #saves result in dict\n",
    "        cls_rep = classification_report(y_pred, Y_test, target_names=category_names,zero_division=1,output_dict=True)\n",
    "        \n",
    "        #delete the support metric\n",
    "        cls_rep['weighted avg'].pop(\"support\")\n",
    "        \n",
    "        #add the accuracy metric\n",
    "        cls_rep['weighted avg'].update({'accuracy':cls_rep['accuracy']})\n",
    "        \n",
    "        #save the weighted avg metrics in the classifer name key\n",
    "        results[str(clf)] = cls_rep['weighted avg']\n",
    "        \n",
    "    return pd.DataFrame(results).round(2)"
   ]
  },
  {
   "cell_type": "code",
   "execution_count": 5,
   "id": "4a3aa972-4107-49b5-b91b-7382a10135ba",
   "metadata": {},
   "outputs": [
    {
     "name": "stdout",
     "output_type": "stream",
     "text": [
      "MultinomialNB()\n",
      "RandomForestClassifier(max_depth=5)\n",
      "GaussianNB()\n",
      "KNeighborsClassifier()\n",
      "MLPClassifier(hidden_layer_sizes=(5, 5, 3))\n"
     ]
    }
   ],
   "source": [
    "#transforme a corpus into a Tfidf matrix (n,m) where n is the number of texts and m the words\n",
    "TfidfVec = TfidfVectorizer(\n",
    "            max_df=0.9,\n",
    "            max_features=6000, \n",
    "            ngram_range=(1,3),\n",
    "            tokenizer=preprocessing\n",
    "            )\n",
    "\n",
    "Tfidf_matrix = TfidfVec.fit_transform(sentence.sentence.values)\n",
    "\n",
    "s = Classifier_tester(Tfidf_matrix.toarray(),sentence.emotion.values)"
   ]
  },
  {
   "cell_type": "code",
   "execution_count": 6,
   "id": "42b7511f-d57f-42b0-9b57-3c262c0fcfa0",
   "metadata": {},
   "outputs": [
    {
     "data": {
      "text/html": [
       "<div>\n",
       "<style scoped>\n",
       "    .dataframe tbody tr th:only-of-type {\n",
       "        vertical-align: middle;\n",
       "    }\n",
       "\n",
       "    .dataframe tbody tr th {\n",
       "        vertical-align: top;\n",
       "    }\n",
       "\n",
       "    .dataframe thead th {\n",
       "        text-align: right;\n",
       "    }\n",
       "</style>\n",
       "<table border=\"1\" class=\"dataframe\">\n",
       "  <thead>\n",
       "    <tr style=\"text-align: right;\">\n",
       "      <th></th>\n",
       "      <th>MultinomialNB()</th>\n",
       "      <th>RandomForestClassifier(max_depth=5)</th>\n",
       "      <th>GaussianNB()</th>\n",
       "      <th>KNeighborsClassifier()</th>\n",
       "      <th>MLPClassifier(hidden_layer_sizes=(5, 5, 3))</th>\n",
       "    </tr>\n",
       "  </thead>\n",
       "  <tbody>\n",
       "    <tr>\n",
       "      <th>precision</th>\n",
       "      <td>0.57</td>\n",
       "      <td>1.00</td>\n",
       "      <td>0.34</td>\n",
       "      <td>0.33</td>\n",
       "      <td>1.00</td>\n",
       "    </tr>\n",
       "    <tr>\n",
       "      <th>recall</th>\n",
       "      <td>0.34</td>\n",
       "      <td>0.21</td>\n",
       "      <td>0.20</td>\n",
       "      <td>0.28</td>\n",
       "      <td>0.21</td>\n",
       "    </tr>\n",
       "    <tr>\n",
       "      <th>f1-score</th>\n",
       "      <td>0.39</td>\n",
       "      <td>0.35</td>\n",
       "      <td>0.21</td>\n",
       "      <td>0.29</td>\n",
       "      <td>0.35</td>\n",
       "    </tr>\n",
       "    <tr>\n",
       "      <th>accuracy</th>\n",
       "      <td>0.34</td>\n",
       "      <td>0.21</td>\n",
       "      <td>0.20</td>\n",
       "      <td>0.28</td>\n",
       "      <td>0.21</td>\n",
       "    </tr>\n",
       "  </tbody>\n",
       "</table>\n",
       "</div>"
      ],
      "text/plain": [
       "           MultinomialNB()  RandomForestClassifier(max_depth=5)  GaussianNB()  \\\n",
       "precision             0.57                                 1.00          0.34   \n",
       "recall                0.34                                 0.21          0.20   \n",
       "f1-score              0.39                                 0.35          0.21   \n",
       "accuracy              0.34                                 0.21          0.20   \n",
       "\n",
       "           KNeighborsClassifier()  MLPClassifier(hidden_layer_sizes=(5, 5, 3))  \n",
       "precision                    0.33                                         1.00  \n",
       "recall                       0.28                                         0.21  \n",
       "f1-score                     0.29                                         0.35  \n",
       "accuracy                     0.28                                         0.21  "
      ]
     },
     "execution_count": 6,
     "metadata": {},
     "output_type": "execute_result"
    }
   ],
   "source": [
    "s"
   ]
  },
  {
   "cell_type": "code",
   "execution_count": null,
   "id": "c73c612a-c57f-4a79-8d16-7b8ee03bb2dd",
   "metadata": {},
   "outputs": [],
   "source": []
  }
 ],
 "metadata": {
  "kernelspec": {
   "display_name": "Python 3 (ipykernel)",
   "language": "python",
   "name": "python3"
  },
  "language_info": {
   "codemirror_mode": {
    "name": "ipython",
    "version": 3
   },
   "file_extension": ".py",
   "mimetype": "text/x-python",
   "name": "python",
   "nbconvert_exporter": "python",
   "pygments_lexer": "ipython3",
   "version": "3.9.7"
  }
 },
 "nbformat": 4,
 "nbformat_minor": 5
}
